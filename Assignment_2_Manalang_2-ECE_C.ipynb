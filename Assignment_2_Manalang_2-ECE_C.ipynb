{
 "cells": [
  {
   "cell_type": "markdown",
   "id": "7421a5c9-3497-4d4b-9cb9-d810a99e75a0",
   "metadata": {},
   "source": [
    "EXPERIMENT 2 - ECE 2112"
   ]
  },
  {
   "cell_type": "code",
   "execution_count": 1,
   "id": "0f537670-223f-4280-9a6a-4fb754950aec",
   "metadata": {},
   "outputs": [],
   "source": [
    "# In this code, I will be experimenting with numerical python numpy.\n",
    "# I will initiate the library using this syntax or code:\n",
    "\n",
    "import numpy as np"
   ]
  },
  {
   "cell_type": "code",
   "execution_count": 2,
   "id": "fcbb7662-02e4-46be-b460-5849df021a0e",
   "metadata": {},
   "outputs": [
    {
     "name": "stdout",
     "output_type": "stream",
     "text": [
      "[[ 0.73113384 -1.38567312 -1.09675491  0.42050078  0.24617   ]\n",
      " [ 0.28364487 -1.09797022  0.15058791  1.64962547 -1.36677134]\n",
      " [ 0.34449269 -0.34192798  1.20213499  1.87578527  1.80779563]\n",
      " [ 0.11550386  1.20153004 -0.82663398 -0.21769144 -1.44398504]\n",
      " [-0.7975593   0.4315628  -0.9610942  -0.07911395 -0.84529265]]\n"
     ]
    }
   ],
   "source": [
    "# First Problem - NORMALIZATION PROBLEM\n",
    "# In this problem, create a random 5 x 5 ndarray and store it to variable X. Normalize X. Save your normalized\n",
    "# ndarray as X_normalized.npy\n",
    "\n",
    "\n",
    "X = np.random.random((5,5)) # Creating a random 5x5 array using the given X variable in the assignment file\n",
    "\n",
    "# Normalization function\n",
    "def normalize(x): \n",
    "    Z = (x - x.mean()) / x.std() # This is the formula of normalization which is Z = (X - mean of x) / standard deviation which is represented by omega\n",
    "    np.save('X_normalized.npy', Z) # This line saves the normalized array using the given filename from the assignment file\n",
    "    print(np.load('X_normalized.npy')) # This line prints and shows (loads) the saved file\n",
    "\n",
    "normalize(X) # using the function on array X"
   ]
  },
  {
   "cell_type": "code",
   "execution_count": 3,
   "id": "cc243b37-1534-47b1-a179-155919bf4e04",
   "metadata": {},
   "outputs": [
    {
     "name": "stdout",
     "output_type": "stream",
     "text": [
      "[   9   36   81  144  225  324  441  576  729  900 1089 1296 1521 1764\n",
      " 2025 2304 2601 2916 3249 3600 3969 4356 4761 5184 5625 6084 6561 7056\n",
      " 7569 8100 8649 9216 9801]\n"
     ]
    }
   ],
   "source": [
    "# Second Problem - DIVISIBLE BY 3 PROBLEM\n",
    "# Create the following 10 x 10 ndarray (represented in the assignment file) which are the squares of the first 100 positive integers.\n",
    "# From this ndarray, determine all the elements that are divisible by 3. Save the result as div_by_3.npy\n",
    "\n",
    "A = A = np.arange(1, 101).reshape(10, 10) ** 2\n",
    "# Creating an array with elements from 1 - 100 (excluding 101 because it is the terminal) and then reshaping the array to be a 10x10\n",
    "# and then squaring each element\n",
    "\n",
    "#print (A) - I used this code to check the array\n",
    "\n",
    "x = A[A % 3 == 0] # This code will help me determine the elements that are divisible by 3\n",
    "# Every element from array A is checked whether the element would have a 0 remainder after using the modular operation\n",
    "\n",
    "np.save(\"div_by_3.npy\", x) # Saving the file as instructed in the assignment file\n",
    "\n",
    "print(np.load(\"div_by_3.npy\")) # Displays the elements divisible by 3 from the file"
   ]
  }
 ],
 "metadata": {
  "kernelspec": {
   "display_name": "Python [conda env:base] *",
   "language": "python",
   "name": "conda-base-py"
  },
  "language_info": {
   "codemirror_mode": {
    "name": "ipython",
    "version": 3
   },
   "file_extension": ".py",
   "mimetype": "text/x-python",
   "name": "python",
   "nbconvert_exporter": "python",
   "pygments_lexer": "ipython3",
   "version": "3.13.5"
  }
 },
 "nbformat": 4,
 "nbformat_minor": 5
}
